{
 "cells": [
  {
   "cell_type": "code",
   "execution_count": 1,
   "metadata": {},
   "outputs": [
    {
     "name": "stderr",
     "output_type": "stream",
     "text": [
      "/var/folders/3l/5v7rvfhn4sn35nr7f47zf2kr0000gn/T/ipykernel_67439/3717543875.py:1: DeprecationWarning: \n",
      "Pyarrow will become a required dependency of pandas in the next major release of pandas (pandas 3.0),\n",
      "(to allow more performant data types, such as the Arrow string type, and better interoperability with other libraries)\n",
      "but was not found to be installed on your system.\n",
      "If this would cause problems for you,\n",
      "please provide us feedback at https://github.com/pandas-dev/pandas/issues/54466\n",
      "        \n",
      "  import pandas as pd\n"
     ]
    }
   ],
   "source": [
    "import pandas as pd\n",
    "import numpy as np\n",
    "import seaborn as sns\n",
    "from sklearn.feature_selection import VarianceThreshold\n",
    "import glob\n",
    "import zipfile"
   ]
  },
  {
   "cell_type": "code",
   "execution_count": 2,
   "metadata": {},
   "outputs": [
    {
     "name": "stdout",
     "output_type": "stream",
     "text": [
      "['apartments_pl_2024_02.csv.zip', 'apartments_pl_2023_09.csv.zip', 'apartments_pl_2023_10.csv.zip', 'apartments_pl_2023_11.csv.zip', 'apartments_pl_2023_08.csv.zip', 'apartments_pl_2024_01.csv.zip', 'apartments_pl_2023_12.csv.zip']\n"
     ]
    }
   ],
   "source": [
    "#unzip files\n",
    "filenames = glob.glob('*zip')\n",
    "print(filenames)\n",
    "for file in filenames:\n",
    "    with zipfile.ZipFile(file,\"r\") as zip_ref:\n",
    "        zip_ref.extractall(\"apartments_pl\")"
   ]
  },
  {
   "cell_type": "code",
   "execution_count": 3,
   "metadata": {},
   "outputs": [
    {
     "data": {
      "text/plain": [
       "117259"
      ]
     },
     "execution_count": 3,
     "metadata": {},
     "output_type": "execute_result"
    }
   ],
   "source": [
    "#load files \n",
    "filenames = glob.glob('apartments_pl/*csv')\n",
    "df = pd.DataFrame()\n",
    "for file in filenames:\n",
    "    df_temp = pd.read_csv(file)\n",
    "    df = pd.concat([df, df_temp])\n",
    "df.shape[0]"
   ]
  },
  {
   "cell_type": "code",
   "execution_count": 4,
   "metadata": {},
   "outputs": [
    {
     "data": {
      "text/plain": [
       "16356    True\n",
       "16357    True\n",
       "16358    True\n",
       "16359    True\n",
       "16360    True\n",
       "dtype: bool"
      ]
     },
     "execution_count": 4,
     "metadata": {},
     "output_type": "execute_result"
    }
   ],
   "source": [
    "#Somehow merge the duplicated id's\n",
    "list = df.duplicated(['id'])\n",
    "type(list)\n",
    "list.tail()"
   ]
  },
  {
   "cell_type": "code",
   "execution_count": 5,
   "metadata": {},
   "outputs": [],
   "source": [
    "#drop observations\n",
    "df = df.dropna()\n",
    "\n",
    "#convert to numerical data\n",
    "df['condition'] = df['condition'].map({'low': 0, 'premium': 1})\n",
    "df['type'] = df['type'].map({'apartmentBuilding': 1, 'blockOfFlats': 2, 'tenement': 3})\n",
    "for col in ['hasParkingSpace', 'hasBalcony', 'hasElevator', 'hasSecurity', 'hasStorageRoom']:\n",
    "    df[col] = df[col].map({'no': 0, 'yes': 1})\n",
    "\n",
    "for col in ['hasParkingSpace', 'hasBalcony', 'hasElevator', 'hasSecurity', 'hasStorageRoom', 'condition', 'type']:\n",
    "    df[col] = df[col].astype(np.int8)\n",
    "\n",
    "#drop features\n",
    "toDrop = ['id', 'ownership'] #buildMaterial, city\n",
    "df = df.drop(toDrop, axis=1)\n"
   ]
  },
  {
   "cell_type": "code",
   "execution_count": null,
   "metadata": {},
   "outputs": [],
   "source": [
    "#drop low variance featurse\n",
    "sel = VarianceThreshold(threshold=.05)\n",
    "sel.fit(df/df.mean())\n",
    "mask = sel.get_support() \n",
    "#Still need longtude, latitude, and buildYear\n",
    "df = df.loc[:, mask]"
   ]
  },
  {
   "cell_type": "code",
   "execution_count": null,
   "metadata": {},
   "outputs": [],
   "source": [
    "df.info()\n",
    "df.describe()"
   ]
  },
  {
   "cell_type": "code",
   "execution_count": 6,
   "metadata": {},
   "outputs": [],
   "source": [
    "df.to_csv('full_dataset.csv', index=False)"
   ]
  },
  {
   "cell_type": "code",
   "execution_count": null,
   "metadata": {},
   "outputs": [],
   "source": []
  }
 ],
 "metadata": {
  "kernelspec": {
   "display_name": "Python 3",
   "language": "python",
   "name": "python3"
  },
  "language_info": {
   "codemirror_mode": {
    "name": "ipython",
    "version": 3
   },
   "file_extension": ".py",
   "mimetype": "text/x-python",
   "name": "python",
   "nbconvert_exporter": "python",
   "pygments_lexer": "ipython3",
   "version": "3.11.5"
  }
 },
 "nbformat": 4,
 "nbformat_minor": 2
}
