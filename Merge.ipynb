{
 "cells": [
  {
   "cell_type": "code",
   "execution_count": 2,
   "metadata": {},
   "outputs": [],
   "source": [
    "import pandas as pd\n",
    "import numpy as np\n",
    "import seaborn as sns\n",
    "from sklearn.feature_selection import VarianceThreshold\n",
    "import glob\n",
    "import zipfile"
   ]
  },
  {
   "cell_type": "code",
   "execution_count": 57,
   "metadata": {},
   "outputs": [
    {
     "data": {
      "text/plain": [
       "35902"
      ]
     },
     "execution_count": 57,
     "metadata": {},
     "output_type": "execute_result"
    }
   ],
   "source": [
    "filenames = ['apartments_pl/apartments_pl_2023_08.csv', 'apartments_pl/apartments_pl_2023_09.csv']\n",
    "df = pd.DataFrame()\n",
    "for file in filenames:\n",
    "    df_temp = pd.read_csv(file)\n",
    "    #make date value\n",
    "    date = pd.to_datetime(file.split('_')[3] + file.split('_')[4].split('.')[0] + '01')\n",
    "    #add date column and date value for each row #what should the type be?\n",
    "    df_temp[\"date\"] = date\n",
    "    df = pd.concat([df, df_temp])\n",
    "df.shape[0]"
   ]
  },
  {
   "cell_type": "code",
   "execution_count": 56,
   "metadata": {},
   "outputs": [
    {
     "name": "stdout",
     "output_type": "stream",
     "text": [
      "id                      000acf1d14adba1b21c0970555514a18\n",
      "city                                                lodz\n",
      "type                                        blockOfFlats\n",
      "squareMeters                                        53.0\n",
      "rooms                                                3.0\n",
      "floor                                                3.0\n",
      "floorCount                                           4.0\n",
      "buildYear                                         1985.0\n",
      "latitude                                        51.74388\n",
      "longitude                                       19.40434\n",
      "centreDistance                                      5.44\n",
      "poiCount                                            25.0\n",
      "schoolDistance                                      0.39\n",
      "clinicDistance                                     0.572\n",
      "postOfficeDistance                                 0.317\n",
      "kindergartenDistance                               0.153\n",
      "restaurantDistance                                 0.236\n",
      "collegeDistance                                    3.394\n",
      "pharmacyDistance                                   0.309\n",
      "ownership                                    condominium\n",
      "buildingMaterial                            concreteSlab\n",
      "condition                                            NaN\n",
      "hasParkingSpace                                       no\n",
      "hasBalcony                                           yes\n",
      "hasElevator                                           no\n",
      "hasSecurity                                           no\n",
      "hasStorageRoom                                       yes\n",
      "price                                             460000\n",
      "date                                 2023-08-01 00:00:00\n",
      "Name: 10129, dtype: object\n",
      "id                      000acf1d14adba1b21c0970555514a18\n",
      "city                                                lodz\n",
      "type                                        blockOfFlats\n",
      "squareMeters                                        53.0\n",
      "rooms                                                3.0\n",
      "floor                                                3.0\n",
      "floorCount                                           4.0\n",
      "buildYear                                         1985.0\n",
      "latitude                                        51.74388\n",
      "longitude                                       19.40434\n",
      "centreDistance                                      5.44\n",
      "poiCount                                            25.0\n",
      "schoolDistance                                      0.39\n",
      "clinicDistance                                     0.572\n",
      "postOfficeDistance                                 0.317\n",
      "kindergartenDistance                               0.153\n",
      "restaurantDistance                                 0.236\n",
      "collegeDistance                                    3.394\n",
      "pharmacyDistance                                   0.309\n",
      "ownership                                    condominium\n",
      "buildingMaterial                            concreteSlab\n",
      "condition                                            NaN\n",
      "hasParkingSpace                                       no\n",
      "hasBalcony                                           yes\n",
      "hasElevator                                           no\n",
      "hasSecurity                                           no\n",
      "hasStorageRoom                                       yes\n",
      "price                                             419000\n",
      "date                                 2023-09-01 00:00:00\n",
      "Name: 8479, dtype: object\n"
     ]
    }
   ],
   "source": [
    "count = 0\n",
    "for i in df['id']:\n",
    "    if (i == '000acf1d14adba1b21c0970555514a18'):\n",
    "        print(df.iloc[count])\n",
    "    count = count + 1\n"
   ]
  },
  {
   "cell_type": "code",
   "execution_count": 58,
   "metadata": {},
   "outputs": [
    {
     "name": "stdout",
     "output_type": "stream",
     "text": [
      "                                     id     sorted_prices\n",
      "0      00048021c18c2dd7286ca5b16314149b          [239000]\n",
      "1      00099201961c051e30735cb48ecc4f4a  [294000, 294000]\n",
      "2      000acf1d14adba1b21c0970555514a18  [460000, 419000]\n",
      "3      000d204022de2218bda363b977f59312         [2200000]\n",
      "4      000f9c10ab7bab5e21b0409df27145a5  [799000, 799000]\n",
      "...                                 ...               ...\n",
      "24998  fff62cda8976f3984c6aaef945eac18c          [799000]\n",
      "24999  fff9a8927155c7b60a2139f9a53bb5a0          [575000]\n",
      "25000  fff9b7b424c1be1538916d19bfad0e8e          [729000]\n",
      "25001  ffff369f1fb57bff8d9180282051be1a  [390000, 390000]\n",
      "25002  ffff9b9a537d0c6fc9093889f17f1580          [610000]\n",
      "\n",
      "[25003 rows x 2 columns]\n"
     ]
    },
    {
     "name": "stderr",
     "output_type": "stream",
     "text": [
      "/var/folders/3l/5v7rvfhn4sn35nr7f47zf2kr0000gn/T/ipykernel_44327/3330894353.py:3: DeprecationWarning: DataFrameGroupBy.apply operated on the grouping columns. This behavior is deprecated, and in a future version of pandas the grouping columns will be excluded from the operation. Either pass `include_groups=False` to exclude the groupings or explicitly select the grouping columns after groupby to silence this warning.\n",
      "  grouped = df_sorted.groupby('id').apply(lambda x: sorted(x['price'].tolist(), key=lambda y: df_sorted.loc[df_sorted['price'] == y, 'date'].iloc[0])).reset_index(name='sorted_prices')\n"
     ]
    }
   ],
   "source": [
    "df_sorted = df.sort_values(by='date')\n",
    "#grouped = df_sorted.groupby('id')['price'].agg(lambda x: sorted(x.tolist())).reset_index()\n",
    "grouped = df_sorted.groupby('id').apply(\n",
    "    lambda x: sorted(x['price'].tolist(), \n",
    "                     key=lambda y: df_sorted.loc[df_sorted['price'] == y, 'date'].iloc[0])\n",
    "                                        ).reset_index(name='sorted_prices')\n",
    "print(grouped)"
   ]
  },
  {
   "cell_type": "code",
   "execution_count": 59,
   "metadata": {},
   "outputs": [
    {
     "data": {
      "text/plain": [
       "pandas.core.frame.DataFrame"
      ]
     },
     "execution_count": 59,
     "metadata": {},
     "output_type": "execute_result"
    }
   ],
   "source": [
    "type(grouped)"
   ]
  },
  {
   "cell_type": "code",
   "execution_count": 72,
   "metadata": {},
   "outputs": [
    {
     "data": {
      "text/html": [
       "<div>\n",
       "<style scoped>\n",
       "    .dataframe tbody tr th:only-of-type {\n",
       "        vertical-align: middle;\n",
       "    }\n",
       "\n",
       "    .dataframe tbody tr th {\n",
       "        vertical-align: top;\n",
       "    }\n",
       "\n",
       "    .dataframe thead th {\n",
       "        text-align: right;\n",
       "    }\n",
       "</style>\n",
       "<table border=\"1\" class=\"dataframe\">\n",
       "  <thead>\n",
       "    <tr style=\"text-align: right;\">\n",
       "      <th></th>\n",
       "      <th>id</th>\n",
       "      <th>sorted_prices</th>\n",
       "    </tr>\n",
       "  </thead>\n",
       "  <tbody>\n",
       "    <tr>\n",
       "      <th>0</th>\n",
       "      <td>00048021c18c2dd7286ca5b16314149b</td>\n",
       "      <td>[239000]</td>\n",
       "    </tr>\n",
       "    <tr>\n",
       "      <th>1</th>\n",
       "      <td>00099201961c051e30735cb48ecc4f4a</td>\n",
       "      <td>[294000, 294000]</td>\n",
       "    </tr>\n",
       "    <tr>\n",
       "      <th>2</th>\n",
       "      <td>000acf1d14adba1b21c0970555514a18</td>\n",
       "      <td>[460000, 419000]</td>\n",
       "    </tr>\n",
       "    <tr>\n",
       "      <th>3</th>\n",
       "      <td>000d204022de2218bda363b977f59312</td>\n",
       "      <td>[2200000]</td>\n",
       "    </tr>\n",
       "    <tr>\n",
       "      <th>4</th>\n",
       "      <td>000f9c10ab7bab5e21b0409df27145a5</td>\n",
       "      <td>[799000, 799000]</td>\n",
       "    </tr>\n",
       "    <tr>\n",
       "      <th>5</th>\n",
       "      <td>000fdd1a757e3372d4464a82cf435b88</td>\n",
       "      <td>[690000]</td>\n",
       "    </tr>\n",
       "    <tr>\n",
       "      <th>6</th>\n",
       "      <td>0013d57121aca281f555e701f3ad9219</td>\n",
       "      <td>[720000]</td>\n",
       "    </tr>\n",
       "    <tr>\n",
       "      <th>7</th>\n",
       "      <td>0014839fb0ac4962d02725466fd2b7d0</td>\n",
       "      <td>[292000]</td>\n",
       "    </tr>\n",
       "    <tr>\n",
       "      <th>8</th>\n",
       "      <td>0014fedd2953161767b0407b6f02c283</td>\n",
       "      <td>[699000]</td>\n",
       "    </tr>\n",
       "    <tr>\n",
       "      <th>9</th>\n",
       "      <td>001c5decbc6a59d850974f94a9da8ba2</td>\n",
       "      <td>[549017, 549017]</td>\n",
       "    </tr>\n",
       "  </tbody>\n",
       "</table>\n",
       "</div>"
      ],
      "text/plain": [
       "                                 id     sorted_prices\n",
       "0  00048021c18c2dd7286ca5b16314149b          [239000]\n",
       "1  00099201961c051e30735cb48ecc4f4a  [294000, 294000]\n",
       "2  000acf1d14adba1b21c0970555514a18  [460000, 419000]\n",
       "3  000d204022de2218bda363b977f59312         [2200000]\n",
       "4  000f9c10ab7bab5e21b0409df27145a5  [799000, 799000]\n",
       "5  000fdd1a757e3372d4464a82cf435b88          [690000]\n",
       "6  0013d57121aca281f555e701f3ad9219          [720000]\n",
       "7  0014839fb0ac4962d02725466fd2b7d0          [292000]\n",
       "8  0014fedd2953161767b0407b6f02c283          [699000]\n",
       "9  001c5decbc6a59d850974f94a9da8ba2  [549017, 549017]"
      ]
     },
     "execution_count": 72,
     "metadata": {},
     "output_type": "execute_result"
    }
   ],
   "source": [
    "grouped.head(10)\n"
   ]
  },
  {
   "cell_type": "code",
   "execution_count": 68,
   "metadata": {},
   "outputs": [
    {
     "ename": "TypeError",
     "evalue": "'>' not supported between instances of 'method' and 'int'",
     "output_type": "error",
     "traceback": [
      "\u001b[0;31m---------------------------------------------------------------------------\u001b[0m",
      "\u001b[0;31mTypeError\u001b[0m                                 Traceback (most recent call last)",
      "Cell \u001b[0;32mIn[68], line 1\u001b[0m\n\u001b[0;32m----> 1\u001b[0m grouped\u001b[38;5;241m.\u001b[39mloc[\u001b[38;5;28mlen\u001b[39m(\u001b[43mgrouped\u001b[49m\u001b[43m[\u001b[49m\u001b[38;5;124;43m'\u001b[39;49m\u001b[38;5;124;43msorted_prices\u001b[39;49m\u001b[38;5;124;43m'\u001b[39;49m\u001b[43m]\u001b[49m\u001b[38;5;241;43m.\u001b[39;49m\u001b[43mto_list\u001b[49m\u001b[43m \u001b[49m\u001b[38;5;241;43m>\u001b[39;49m\u001b[43m \u001b[49m\u001b[38;5;241;43m1\u001b[39;49m)]\n",
      "\u001b[0;31mTypeError\u001b[0m: '>' not supported between instances of 'method' and 'int'"
     ]
    }
   ],
   "source": [
    "grouped.loc[grouped['sorted_prices'] > 1)]"
   ]
  },
  {
   "cell_type": "code",
   "execution_count": 66,
   "metadata": {},
   "outputs": [
    {
     "data": {
      "text/plain": [
       "0                [239000]\n",
       "1        [294000, 294000]\n",
       "2        [460000, 419000]\n",
       "3               [2200000]\n",
       "4        [799000, 799000]\n",
       "               ...       \n",
       "24998            [799000]\n",
       "24999            [575000]\n",
       "25000            [729000]\n",
       "25001    [390000, 390000]\n",
       "25002            [610000]\n",
       "Name: sorted_prices, Length: 25003, dtype: object"
      ]
     },
     "execution_count": 66,
     "metadata": {},
     "output_type": "execute_result"
    }
   ],
   "source": [
    "grouped['sorted_prices']"
   ]
  },
  {
   "cell_type": "code",
   "execution_count": null,
   "metadata": {},
   "outputs": [],
   "source": []
  }
 ],
 "metadata": {
  "kernelspec": {
   "display_name": "Python 3",
   "language": "python",
   "name": "python3"
  },
  "language_info": {
   "codemirror_mode": {
    "name": "ipython",
    "version": 3
   },
   "file_extension": ".py",
   "mimetype": "text/x-python",
   "name": "python",
   "nbconvert_exporter": "python",
   "pygments_lexer": "ipython3",
   "version": "3.11.5"
  }
 },
 "nbformat": 4,
 "nbformat_minor": 2
}
