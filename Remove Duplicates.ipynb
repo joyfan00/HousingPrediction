{
 "cells": [
  {
   "cell_type": "code",
   "execution_count": 3,
   "id": "5c1e2f64",
   "metadata": {},
   "outputs": [],
   "source": [
    "import pandas as pd\n",
    "\n",
    
    "df = pd.read_csv('/Users/shravani/Docs/dataset-1.csv')\n",
    "\n",
   
    "df['date'] = pd.to_datetime(df['date'], format='%Y-%m-%d')\n",
    "\n",
    
    "id_counts = df['id'].value_counts()\n",
    "\n",
    
    "result = df[df['id'].isin(id_counts.index[id_counts == 7])].copy()\n",
    "\n",
    "# save the result to a new CSV file\n",
    "result.to_csv('final.csv', index=False)"
   ]
  },
  {
   "cell_type": "code",
   "execution_count": 8,
   "id": "66ca9298",
   "metadata": {},
   "outputs": [
    {
     "name": "stdout",
     "output_type": "stream",
     "text": [
      "                                     id       city               type  \\\n",
      "1      bac1869ad9c2c1ef444b0ba6d225761a   szczecin           tenement   \n",
      "20     fb10546822255a8bd8d52448ce0ae265   szczecin           tenement   \n",
      "28     504193ed8e736e687f64d7ba05449972   szczecin           tenement   \n",
      "29     bde946f27b37a2dc9219075cb954f929   szczecin       blockOfFlats   \n",
      "33     c5c9f8850f6ed88e3009a8f251b4edce   szczecin           tenement   \n",
      "...                                 ...        ...                ...   \n",
      "10159  67fabb08b972f8ee543606c7802a02ba  bydgoszcz       blockOfFlats   \n",
      "10169  ad117919faf4e279e748ff5825cab8c9  bydgoszcz  apartmentBuilding   \n",
      "10174  307a70d93015d7141669edc0e462e434  bydgoszcz           tenement   \n",
      "10191  da0d7d8d1ab4c296faddeb207804ed17  bydgoszcz       blockOfFlats   \n",
      "10210  db1312ac01eb06a84110de11839730e2  bydgoszcz       blockOfFlats   \n",
      "\n",
      "       squareMeters  rooms  floor  floorCount  buildYear   latitude  \\\n",
      "1             77.71    3.0    3.0         3.0     1925.0  53.433019   \n",
      "20            78.60    3.0    2.0         4.0     1929.0  53.432833   \n",
      "28           100.00    3.0    4.0         4.0     1930.0  53.436494   \n",
      "29            96.06    4.0    3.0         3.0     2009.0  53.465600   \n",
      "33            42.57    2.0    1.0         1.0     1938.0  53.495690   \n",
      "...             ...    ...    ...         ...        ...        ...   \n",
      "10159         68.79    3.0    3.0         3.0     2002.0  53.123894   \n",
      "10169         78.90    3.0    2.0         2.0     2004.0  53.108380   \n",
      "10174         39.00    2.0    1.0         4.0     1914.0  53.126000   \n",
      "10191         37.30    2.0   10.0        10.0     1980.0  53.124984   \n",
      "10210         74.00    3.0    1.0         3.0     1959.0  53.105804   \n",
      "\n",
      "       longitude  ...    ownership  buildingMaterial  condition  \\\n",
      "1      14.569775  ...  condominium             brick        low   \n",
      "20     14.548187  ...  condominium             brick    premium   \n",
      "28     14.572026  ...  condominium             brick    premium   \n",
      "29     14.541539  ...  condominium             brick    premium   \n",
      "33     14.584651  ...  condominium             brick    premium   \n",
      "...          ...  ...          ...               ...        ...   \n",
      "10159  18.025269  ...  condominium             brick    premium   \n",
      "10169  17.980800  ...  condominium             brick    premium   \n",
      "10174  18.007900  ...  condominium             brick        low   \n",
      "10191  18.049752  ...  cooperative      concreteSlab        low   \n",
      "10210  18.054872  ...  condominium             brick        low   \n",
      "\n",
      "       hasParkingSpace  hasBalcony  hasElevator  hasSecurity  hasStorageRoom  \\\n",
      "1                   no          no           no           no             yes   \n",
      "20                  no          no           no           no             yes   \n",
      "28                 yes          no           no           no             yes   \n",
      "29                  no         yes           no           no              no   \n",
      "33                 yes          no           no           no             yes   \n",
      "...                ...         ...          ...          ...             ...   \n",
      "10159              yes         yes           no           no             yes   \n",
      "10169               no         yes           no           no             yes   \n",
      "10174               no          no           no           no             yes   \n",
      "10191               no         yes          yes           no             yes   \n",
      "10210               no          no           no           no             yes   \n",
      "\n",
      "        price        date  \n",
      "1      599000  2023-12-01  \n",
      "20     440000  2023-12-01  \n",
      "28     739000  2023-12-01  \n",
      "29     799000  2023-12-01  \n",
      "33     379000  2023-12-01  \n",
      "...       ...         ...  \n",
      "10159  539000  2024-02-01  \n",
      "10169  640000  2024-02-01  \n",
      "10174  205000  2024-02-01  \n",
      "10191  219000  2024-02-01  \n",
      "10210  389900  2024-02-01  \n",
      "\n",
      "[1029 rows x 29 columns]\n"
     ]
    }
   ],
   "source": [
    "import pandas as pd\n",
    "\n",
   
    "df = pd.read_csv('final.csv')\n",
    "\n",
  
    "feature_columns = df.columns.difference(['price', 'date'])\n",
    "\n",
   
    "def check_same_features(group):\n",
    "    return (group[feature_columns].nunique() == 1).all()\n",
    "\n",
  
    "filtered_apartments = df.groupby('id').filter(check_same_features)['id'].unique()\n",
    "\n",
   
    "result_df = df[df['id'].isin(filtered_apartments)]\n",
    "\n",
   
    "result_df.to_csv('dupes.csv', index=False)\n",
    "\n",
   
    "print(result_df)\n"
   ]
  }
 ],
 "metadata": {
  "kernelspec": {
   "display_name": "Python 3 (ipykernel)",
   "language": "python",
   "name": "python3"
  },
  "language_info": {
   "codemirror_mode": {
    "name": "ipython",
    "version": 3
   },
   "file_extension": ".py",
   "mimetype": "text/x-python",
   "name": "python",
   "nbconvert_exporter": "python",
   "pygments_lexer": "ipython3",
   "version": "3.10.9"
  }
 },
 "nbformat": 4,
 "nbformat_minor": 5
}
